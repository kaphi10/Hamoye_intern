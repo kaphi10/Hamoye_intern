{
 "cells": [
  {
   "cell_type": "markdown",
   "id": "292d1806",
   "metadata": {},
   "source": [
    "#### INTRODUCTION\n",
    "> Stability of the Grid System\n",
    "\n",
    "Electrical grids require a balance between electricity supply and demand in order to be stable. Conventional systems achieve this balance through demand-driven electricity production. For future grids with a high share of inflexible (i.e., renewable) energy sources, the concept of demand response is a promising solution. This implies changes in electricity consumption in relation to electricity price changes. In this work, we’ll build a binary classification model to predict if a grid is stable or unstable using the UCI Electrical Grid Stability Simulated dataset.\n",
    "\n",
    "\n",
    "Attribute Information:\n",
    "\n",
    "11 predictive attributes, 1 non-predictive(p1), 2 goal fields:\n",
    "1. tau[x]: reaction time of participant (real from the range [0.5,10]s). Tau1 - the value for electricity producer.\n",
    "2. p[x]: nominal power consumed(negative)/produced(positive)(real). For consumers from the range [-0.5,-2]s^-2; p1 = abs(p2 + p3 + p4)\n",
    "3. g[x]: coefficient (gamma) proportional to price elasticity (real from the range [0.05,1]s^-1). g1 - the value for electricity producer.\n",
    "4. stab: the maximal real part of the characteristic equation root (if positive - the system is linearly unstable)(real)\n",
    "5. stabf: the stability label of the system (categorical: stable/unstable)\n",
    "\n",
    "> Aim of the project\n",
    "\n",
    "1. Use supervised Classification machine learning model to train and test stable and unstable of the system\n",
    "2. perform a Hyperparameter tunning using RandomizedSearchCV"
   ]
  },
  {
   "cell_type": "code",
   "execution_count": 250,
   "id": "2f144aeb",
   "metadata": {},
   "outputs": [],
   "source": [
    "import pandas as pd\n",
    "import numpy as np\n",
    "import matplotlib.pyplot as plt\n",
    "import seaborn as sb"
   ]
  },
  {
   "cell_type": "code",
   "execution_count": 251,
   "id": "cff611c3",
   "metadata": {},
   "outputs": [
    {
     "data": {
      "text/html": [
       "<div>\n",
       "<style scoped>\n",
       "    .dataframe tbody tr th:only-of-type {\n",
       "        vertical-align: middle;\n",
       "    }\n",
       "\n",
       "    .dataframe tbody tr th {\n",
       "        vertical-align: top;\n",
       "    }\n",
       "\n",
       "    .dataframe thead th {\n",
       "        text-align: right;\n",
       "    }\n",
       "</style>\n",
       "<table border=\"1\" class=\"dataframe\">\n",
       "  <thead>\n",
       "    <tr style=\"text-align: right;\">\n",
       "      <th></th>\n",
       "      <th>tau1</th>\n",
       "      <th>tau2</th>\n",
       "      <th>tau3</th>\n",
       "      <th>tau4</th>\n",
       "      <th>p1</th>\n",
       "      <th>p2</th>\n",
       "      <th>p3</th>\n",
       "      <th>p4</th>\n",
       "      <th>g1</th>\n",
       "      <th>g2</th>\n",
       "      <th>g3</th>\n",
       "      <th>g4</th>\n",
       "      <th>stab</th>\n",
       "      <th>stabf</th>\n",
       "    </tr>\n",
       "  </thead>\n",
       "  <tbody>\n",
       "    <tr>\n",
       "      <th>0</th>\n",
       "      <td>2.959060</td>\n",
       "      <td>3.079885</td>\n",
       "      <td>8.381025</td>\n",
       "      <td>9.780754</td>\n",
       "      <td>3.763085</td>\n",
       "      <td>-0.782604</td>\n",
       "      <td>-1.257395</td>\n",
       "      <td>-1.723086</td>\n",
       "      <td>0.650456</td>\n",
       "      <td>0.859578</td>\n",
       "      <td>0.887445</td>\n",
       "      <td>0.958034</td>\n",
       "      <td>0.055347</td>\n",
       "      <td>unstable</td>\n",
       "    </tr>\n",
       "    <tr>\n",
       "      <th>1</th>\n",
       "      <td>9.304097</td>\n",
       "      <td>4.902524</td>\n",
       "      <td>3.047541</td>\n",
       "      <td>1.369357</td>\n",
       "      <td>5.067812</td>\n",
       "      <td>-1.940058</td>\n",
       "      <td>-1.872742</td>\n",
       "      <td>-1.255012</td>\n",
       "      <td>0.413441</td>\n",
       "      <td>0.862414</td>\n",
       "      <td>0.562139</td>\n",
       "      <td>0.781760</td>\n",
       "      <td>-0.005957</td>\n",
       "      <td>stable</td>\n",
       "    </tr>\n",
       "    <tr>\n",
       "      <th>2</th>\n",
       "      <td>8.971707</td>\n",
       "      <td>8.848428</td>\n",
       "      <td>3.046479</td>\n",
       "      <td>1.214518</td>\n",
       "      <td>3.405158</td>\n",
       "      <td>-1.207456</td>\n",
       "      <td>-1.277210</td>\n",
       "      <td>-0.920492</td>\n",
       "      <td>0.163041</td>\n",
       "      <td>0.766689</td>\n",
       "      <td>0.839444</td>\n",
       "      <td>0.109853</td>\n",
       "      <td>0.003471</td>\n",
       "      <td>unstable</td>\n",
       "    </tr>\n",
       "    <tr>\n",
       "      <th>3</th>\n",
       "      <td>0.716415</td>\n",
       "      <td>7.669600</td>\n",
       "      <td>4.486641</td>\n",
       "      <td>2.340563</td>\n",
       "      <td>3.963791</td>\n",
       "      <td>-1.027473</td>\n",
       "      <td>-1.938944</td>\n",
       "      <td>-0.997374</td>\n",
       "      <td>0.446209</td>\n",
       "      <td>0.976744</td>\n",
       "      <td>0.929381</td>\n",
       "      <td>0.362718</td>\n",
       "      <td>0.028871</td>\n",
       "      <td>unstable</td>\n",
       "    </tr>\n",
       "    <tr>\n",
       "      <th>4</th>\n",
       "      <td>3.134112</td>\n",
       "      <td>7.608772</td>\n",
       "      <td>4.943759</td>\n",
       "      <td>9.857573</td>\n",
       "      <td>3.525811</td>\n",
       "      <td>-1.125531</td>\n",
       "      <td>-1.845975</td>\n",
       "      <td>-0.554305</td>\n",
       "      <td>0.797110</td>\n",
       "      <td>0.455450</td>\n",
       "      <td>0.656947</td>\n",
       "      <td>0.820923</td>\n",
       "      <td>0.049860</td>\n",
       "      <td>unstable</td>\n",
       "    </tr>\n",
       "  </tbody>\n",
       "</table>\n",
       "</div>"
      ],
      "text/plain": [
       "       tau1      tau2      tau3      tau4        p1        p2        p3  \\\n",
       "0  2.959060  3.079885  8.381025  9.780754  3.763085 -0.782604 -1.257395   \n",
       "1  9.304097  4.902524  3.047541  1.369357  5.067812 -1.940058 -1.872742   \n",
       "2  8.971707  8.848428  3.046479  1.214518  3.405158 -1.207456 -1.277210   \n",
       "3  0.716415  7.669600  4.486641  2.340563  3.963791 -1.027473 -1.938944   \n",
       "4  3.134112  7.608772  4.943759  9.857573  3.525811 -1.125531 -1.845975   \n",
       "\n",
       "         p4        g1        g2        g3        g4      stab     stabf  \n",
       "0 -1.723086  0.650456  0.859578  0.887445  0.958034  0.055347  unstable  \n",
       "1 -1.255012  0.413441  0.862414  0.562139  0.781760 -0.005957    stable  \n",
       "2 -0.920492  0.163041  0.766689  0.839444  0.109853  0.003471  unstable  \n",
       "3 -0.997374  0.446209  0.976744  0.929381  0.362718  0.028871  unstable  \n",
       "4 -0.554305  0.797110  0.455450  0.656947  0.820923  0.049860  unstable  "
      ]
     },
     "execution_count": 251,
     "metadata": {},
     "output_type": "execute_result"
    }
   ],
   "source": [
    "df=pd.read_csv('Data_for_UCI_named.csv')\n",
    "df.head()"
   ]
  },
  {
   "cell_type": "code",
   "execution_count": 252,
   "id": "62548451",
   "metadata": {},
   "outputs": [
    {
     "data": {
      "text/plain": [
       "unstable    6380\n",
       "stable      3620\n",
       "Name: stabf, dtype: int64"
      ]
     },
     "execution_count": 252,
     "metadata": {},
     "output_type": "execute_result"
    }
   ],
   "source": [
    "df.stabf.value_counts()"
   ]
  },
  {
   "cell_type": "code",
   "execution_count": 253,
   "id": "e2e9656e",
   "metadata": {},
   "outputs": [
    {
     "data": {
      "text/plain": [
       "tau1     0\n",
       "tau2     0\n",
       "tau3     0\n",
       "tau4     0\n",
       "p1       0\n",
       "p2       0\n",
       "p3       0\n",
       "p4       0\n",
       "g1       0\n",
       "g2       0\n",
       "g3       0\n",
       "g4       0\n",
       "stab     0\n",
       "stabf    0\n",
       "dtype: int64"
      ]
     },
     "execution_count": 253,
     "metadata": {},
     "output_type": "execute_result"
    }
   ],
   "source": [
    "df.isna().sum()"
   ]
  },
  {
   "cell_type": "code",
   "execution_count": 254,
   "id": "6780215b",
   "metadata": {},
   "outputs": [
    {
     "data": {
      "text/plain": [
       "0"
      ]
     },
     "execution_count": 254,
     "metadata": {},
     "output_type": "execute_result"
    }
   ],
   "source": [
    "df.duplicated().sum()"
   ]
  },
  {
   "cell_type": "code",
   "execution_count": 255,
   "id": "34f02679",
   "metadata": {},
   "outputs": [
    {
     "name": "stdout",
     "output_type": "stream",
     "text": [
      "<class 'pandas.core.frame.DataFrame'>\n",
      "RangeIndex: 10000 entries, 0 to 9999\n",
      "Data columns (total 14 columns):\n",
      " #   Column  Non-Null Count  Dtype  \n",
      "---  ------  --------------  -----  \n",
      " 0   tau1    10000 non-null  float64\n",
      " 1   tau2    10000 non-null  float64\n",
      " 2   tau3    10000 non-null  float64\n",
      " 3   tau4    10000 non-null  float64\n",
      " 4   p1      10000 non-null  float64\n",
      " 5   p2      10000 non-null  float64\n",
      " 6   p3      10000 non-null  float64\n",
      " 7   p4      10000 non-null  float64\n",
      " 8   g1      10000 non-null  float64\n",
      " 9   g2      10000 non-null  float64\n",
      " 10  g3      10000 non-null  float64\n",
      " 11  g4      10000 non-null  float64\n",
      " 12  stab    10000 non-null  float64\n",
      " 13  stabf   10000 non-null  object \n",
      "dtypes: float64(13), object(1)\n",
      "memory usage: 1.1+ MB\n"
     ]
    }
   ],
   "source": [
    "df.info()"
   ]
  },
  {
   "cell_type": "code",
   "execution_count": 256,
   "id": "0f23bde5",
   "metadata": {},
   "outputs": [
    {
     "name": "stdout",
     "output_type": "stream",
     "text": [
      "<class 'pandas.core.frame.DataFrame'>\n",
      "RangeIndex: 10000 entries, 0 to 9999\n",
      "Data columns (total 14 columns):\n",
      " #   Column  Non-Null Count  Dtype  \n",
      "---  ------  --------------  -----  \n",
      " 0   tau1    10000 non-null  float64\n",
      " 1   tau2    10000 non-null  float64\n",
      " 2   tau3    10000 non-null  float64\n",
      " 3   tau4    10000 non-null  float64\n",
      " 4   p1      10000 non-null  float64\n",
      " 5   p2      10000 non-null  float64\n",
      " 6   p3      10000 non-null  float64\n",
      " 7   p4      10000 non-null  float64\n",
      " 8   g1      10000 non-null  float64\n",
      " 9   g2      10000 non-null  float64\n",
      " 10  g3      10000 non-null  float64\n",
      " 11  g4      10000 non-null  float64\n",
      " 12  stab    10000 non-null  float64\n",
      " 13  stabf   10000 non-null  object \n",
      "dtypes: float64(13), object(1)\n",
      "memory usage: 1.1+ MB\n"
     ]
    }
   ],
   "source": [
    "df1=df.copy()\n",
    "df1.info()"
   ]
  },
  {
   "cell_type": "code",
   "execution_count": 257,
   "id": "0ace6aa3",
   "metadata": {},
   "outputs": [
    {
     "data": {
      "text/plain": [
       "1    6380\n",
       "0    3620\n",
       "Name: stabf, dtype: int64"
      ]
     },
     "execution_count": 257,
     "metadata": {},
     "output_type": "execute_result"
    }
   ],
   "source": [
    "# convert the target variable to 0 and 1\n",
    "df1['stabf']=df1['stabf'].map({'unstable':1,'stable':0})\n",
    "df1['stabf'].value_counts()"
   ]
  },
  {
   "cell_type": "code",
   "execution_count": 258,
   "id": "6e9d6ba1",
   "metadata": {},
   "outputs": [
    {
     "data": {
      "text/plain": [
       "Index(['stab', 'tau2', 'tau4', 'tau3', 'tau1'], dtype='object')"
      ]
     },
     "execution_count": 258,
     "metadata": {},
     "output_type": "execute_result"
    }
   ],
   "source": [
    "df1.corr()['stabf'].sort_values(ascending=False).index[1:6]"
   ]
  },
  {
   "cell_type": "code",
   "execution_count": 259,
   "id": "b7f9592c",
   "metadata": {},
   "outputs": [
    {
     "data": {
      "image/png": "[encoded data removed]",
      "text/plain": [
       "<Figure size 864x504 with 2 Axes>"
      ]
     },
     "metadata": {
      "needs_background": "light"
     },
     "output_type": "display_data"
    }
   ],
   "source": [
    "plt.figure(figsize=(12,7))\n",
    "sb.heatmap(df1.corr(),cmap='coolwarm',annot=True);"
   ]
  },
  {
   "cell_type": "markdown",
   "id": "14866e8a",
   "metadata": {},
   "source": [
    "Looking at the heatmap above the correlation of other independent variable with the target variable is not too strong"
   ]
  },
  {
   "cell_type": "code",
   "execution_count": 260,
   "id": "d36b2cc6",
   "metadata": {},
   "outputs": [],
   "source": [
    "df1=df1.drop(columns=['stab'])"
   ]
  },
  {
   "cell_type": "code",
   "execution_count": 261,
   "id": "ffb5cc1c",
   "metadata": {},
   "outputs": [],
   "source": [
    "target=df1['stabf']\n",
    "df_data=df1.drop(columns=['stabf'])"
   ]
  },
  {
   "cell_type": "code",
   "execution_count": 262,
   "id": "9079cd4e",
   "metadata": {},
   "outputs": [],
   "source": [
    "from sklearn.model_selection import train_test_split\n",
    "X_train,X_test, Y_train,Y_test=train_test_split(df_data,target,test_size=.2,random_state=1)"
   ]
  },
  {
   "cell_type": "code",
   "execution_count": 263,
   "id": "6c6d2a77",
   "metadata": {},
   "outputs": [
    {
     "data": {
      "text/plain": [
       "((8000, 12), (2000, 12), (8000,), (2000,))"
      ]
     },
     "execution_count": 263,
     "metadata": {},
     "output_type": "execute_result"
    }
   ],
   "source": [
    "X_train.shape,X_test.shape,Y_train.shape,Y_test.shape"
   ]
  },
  {
   "cell_type": "code",
   "execution_count": 264,
   "id": "ce403970",
   "metadata": {},
   "outputs": [],
   "source": [
    "# import imblearn\n",
    "# from imblearn.over_sampling import SMOTE\n",
    "# smote= SMOTE(random_state=1)\n",
    "# x_train_balance,y_balance= smote.fit_resample(X_train,Y_train)\n",
    "# x_train_balance.shape, y_balance.shape\n"
   ]
  },
  {
   "cell_type": "code",
   "execution_count": 265,
   "id": "5642c8d3",
   "metadata": {},
   "outputs": [],
   "source": [
    "from sklearn.preprocessing import StandardScaler\n",
    "scaler=StandardScaler()\n",
    "normalised_train_df=scaler.fit_transform(X_train,Y_train)\n",
    "normalised_train_df= pd.DataFrame(normalised_train_df)"
   ]
  },
  {
   "cell_type": "code",
   "execution_count": 266,
   "id": "784f0a40",
   "metadata": {},
   "outputs": [],
   "source": [
    "x_test=X_test.reset_index(drop=True)\n",
    "normalised_test_df=scaler.transform(x_test)\n",
    "normalised_test_df= pd.DataFrame(normalised_test_df)"
   ]
  },
  {
   "cell_type": "code",
   "execution_count": 267,
   "id": "04380cad",
   "metadata": {},
   "outputs": [
    {
     "data": {
      "text/plain": [
       "LogisticRegression()"
      ]
     },
     "execution_count": 267,
     "metadata": {},
     "output_type": "execute_result"
    }
   ],
   "source": [
    "#Logistic Regression\n",
    "from sklearn.linear_model import LogisticRegression\n",
    "log_reg = LogisticRegression()\n",
    "log_reg.fit(normalised_train_df, Y_train)\n",
    "#returns\n",
    "LogisticRegression(C= 1.0 , class_weight= None , dual= False , fit_intercept= True ,\n",
    " intercept_scaling= 1 , l1_ratio= None , max_iter= 100 ,\n",
    " multi_class= 'auto' , n_jobs= None , penalty= 'l2' ,\n",
    " random_state= None , solver= 'lbfgs' , tol= 0.0001 , verbose= 0 ,\n",
    " warm_start= False ) "
   ]
  },
  {
   "cell_type": "code",
   "execution_count": 268,
   "id": "05bd82ad",
   "metadata": {},
   "outputs": [
    {
     "data": {
      "text/plain": [
       "array([0.8049015 , 0.80345987, 0.80785034, 0.79645688, 0.7835111 ])"
      ]
     },
     "execution_count": 268,
     "metadata": {},
     "output_type": "execute_result"
    }
   ],
   "source": [
    "from sklearn.model_selection import cross_val_score\n",
    "score=cross_val_score(log_reg, normalised_train_df,Y_train, cv=5, scoring='f1_macro')\n",
    "score"
   ]
  },
  {
   "cell_type": "code",
   "execution_count": 269,
   "id": "cadb5428",
   "metadata": {},
   "outputs": [
    {
     "data": {
      "text/plain": [
       "((2000,), (2000, 12), (2000, 12))"
      ]
     },
     "execution_count": 269,
     "metadata": {},
     "output_type": "execute_result"
    }
   ],
   "source": [
    "Y_test.shape,x_test.shape, normalised_test_df.shape"
   ]
  },
  {
   "cell_type": "code",
   "execution_count": 270,
   "id": "421967bc",
   "metadata": {},
   "outputs": [
    {
     "data": {
      "text/plain": [
       "array([[ 494,  218],\n",
       "       [ 174, 1114]], dtype=int64)"
      ]
     },
     "execution_count": 270,
     "metadata": {},
     "output_type": "execute_result"
    }
   ],
   "source": [
    "from sklearn.metrics import recall_score, accuracy_score, precision_score,f1_score,confusion_matrix\n",
    "new_predictions=log_reg.predict(normalised_test_df)\n",
    "cnf_mat=confusion_matrix(y_true=Y_test,y_pred=new_predictions)\n",
    "cnf_mat"
   ]
  },
  {
   "cell_type": "code",
   "execution_count": 271,
   "id": "ae20ac11",
   "metadata": {},
   "outputs": [
    {
     "name": "stdout",
     "output_type": "stream",
     "text": [
      "Accuracy: 80\n"
     ]
    }
   ],
   "source": [
    "accuracy=accuracy_score(y_true=Y_test,y_pred=new_predictions)\n",
    "print('Accuracy: {}' .format(round(accuracy *100),2))   "
   ]
  },
  {
   "cell_type": "code",
   "execution_count": 272,
   "id": "20475711",
   "metadata": {},
   "outputs": [
    {
     "name": "stdout",
     "output_type": "stream",
     "text": [
      "precission: 84\n"
     ]
    }
   ],
   "source": [
    "precision=precision_score(y_true=Y_test,y_pred=new_predictions)\n",
    "print('precission: {}' .format(round(precision *100),2))"
   ]
  },
  {
   "cell_type": "code",
   "execution_count": 273,
   "id": "c88c7f4b",
   "metadata": {},
   "outputs": [
    {
     "name": "stdout",
     "output_type": "stream",
     "text": [
      "Recall: 86\n"
     ]
    }
   ],
   "source": [
    "recall=recall_score(y_true=Y_test,y_pred=new_predictions)\n",
    "print('Recall: {}' .format(round(recall *100),2))"
   ]
  },
  {
   "cell_type": "code",
   "execution_count": 274,
   "id": "f0d6f813",
   "metadata": {},
   "outputs": [
    {
     "name": "stdout",
     "output_type": "stream",
     "text": [
      "f1: 85\n"
     ]
    }
   ],
   "source": [
    "f1=f1_score(y_true=Y_test,y_pred=new_predictions)\n",
    "print('f1: {}' .format(round(f1 *100),2))"
   ]
  },
  {
   "cell_type": "code",
   "execution_count": 275,
   "id": "79a6b5b7",
   "metadata": {},
   "outputs": [],
   "source": [
    "# import all liberary needed\n",
    "from sklearn.ensemble import RandomForestClassifier, ExtraTreesClassifier\n",
    "\n",
    "m_random=RandomForestClassifier()\n",
    "extra=ExtraTreesClassifier()"
   ]
  },
  {
   "cell_type": "code",
   "execution_count": 276,
   "id": "ffd07667",
   "metadata": {},
   "outputs": [
    {
     "data": {
      "text/plain": [
       "RandomForestClassifier()"
      ]
     },
     "execution_count": 276,
     "metadata": {},
     "output_type": "execute_result"
    }
   ],
   "source": [
    "m_random.fit(normalised_train_df,Y_train)"
   ]
  },
  {
   "cell_type": "code",
   "execution_count": 277,
   "id": "7c2fb63c",
   "metadata": {},
   "outputs": [
    {
     "data": {
      "text/plain": [
       "array([0.90093493, 0.9100645 , 0.90949114, 0.9010989 , 0.92202129])"
      ]
     },
     "execution_count": 277,
     "metadata": {},
     "output_type": "execute_result"
    }
   ],
   "source": [
    "# cross val score of the Random model\n",
    "score=cross_val_score(m_random,normalised_train_df,Y_train,cv=5,scoring='f1_macro')\n",
    "score"
   ]
  },
  {
   "cell_type": "code",
   "execution_count": 278,
   "id": "789e1992",
   "metadata": {},
   "outputs": [
    {
     "data": {
      "text/plain": [
       "array([[ 619,   93],\n",
       "       [  74, 1214]], dtype=int64)"
      ]
     },
     "execution_count": 278,
     "metadata": {},
     "output_type": "execute_result"
    }
   ],
   "source": [
    "from sklearn.metrics import recall_score, accuracy_score, precision_score,f1_score,confusion_matrix\n",
    "new_predictions=m_random.predict(normalised_test_df)\n",
    "cnf_mat1=confusion_matrix(y_true=Y_test,y_pred=new_predictions)\n",
    "cnf_mat1"
   ]
  },
  {
   "cell_type": "code",
   "execution_count": 279,
   "id": "60bea8cf",
   "metadata": {},
   "outputs": [
    {
     "name": "stdout",
     "output_type": "stream",
     "text": [
      "Accuracy: 0.9165\n"
     ]
    }
   ],
   "source": [
    "accuracy1=accuracy_score(y_true=Y_test,y_pred=new_predictions)\n",
    "print('Accuracy: {}' .format(round(accuracy1,4)))  "
   ]
  },
  {
   "cell_type": "code",
   "execution_count": 280,
   "id": "001e64f1",
   "metadata": {},
   "outputs": [
    {
     "name": "stdout",
     "output_type": "stream",
     "text": [
      "precission: 93\n"
     ]
    }
   ],
   "source": [
    "precision1=precision_score(y_true=Y_test,y_pred=new_predictions)\n",
    "print('precission: {}' .format(round(precision1 *100),2))"
   ]
  },
  {
   "cell_type": "code",
   "execution_count": 281,
   "id": "9b4e70c4",
   "metadata": {},
   "outputs": [
    {
     "name": "stdout",
     "output_type": "stream",
     "text": [
      "Recall: 94\n"
     ]
    }
   ],
   "source": [
    "recall1=recall_score(y_true=Y_test,y_pred=new_predictions)\n",
    "print('Recall: {}' .format(round(recall1 *100),2))"
   ]
  },
  {
   "cell_type": "code",
   "execution_count": 282,
   "id": "af5f7f65",
   "metadata": {},
   "outputs": [
    {
     "name": "stdout",
     "output_type": "stream",
     "text": [
      "f1: 94\n"
     ]
    }
   ],
   "source": [
    "f1_s=f1_score(y_true=Y_test,y_pred=new_predictions,)\n",
    "print('f1: {}' .format(round(f1_s *100),2))"
   ]
  },
  {
   "cell_type": "code",
   "execution_count": 283,
   "id": "1003760e",
   "metadata": {},
   "outputs": [
    {
     "data": {
      "text/plain": [
       "ExtraTreesClassifier()"
      ]
     },
     "execution_count": 283,
     "metadata": {},
     "output_type": "execute_result"
    }
   ],
   "source": [
    "# get for ExtraTreesClassifier()\n",
    "extra.fit(normalised_train_df,Y_train)"
   ]
  },
  {
   "cell_type": "code",
   "execution_count": 284,
   "id": "ad265fe7",
   "metadata": {},
   "outputs": [
    {
     "data": {
      "text/plain": [
       "array([0.90898844, 0.91710317, 0.91965368, 0.9027322 , 0.91491536])"
      ]
     },
     "execution_count": 284,
     "metadata": {},
     "output_type": "execute_result"
    }
   ],
   "source": [
    "score=cross_val_score(extra,normalised_train_df,Y_train,cv=5,scoring='f1_macro')\n",
    "score"
   ]
  },
  {
   "cell_type": "code",
   "execution_count": 285,
   "id": "f444932e",
   "metadata": {},
   "outputs": [
    {
     "data": {
      "text/plain": [
       "array([[ 607,  105],\n",
       "       [  32, 1256]], dtype=int64)"
      ]
     },
     "execution_count": 285,
     "metadata": {},
     "output_type": "execute_result"
    }
   ],
   "source": [
    "from sklearn.metrics import recall_score, accuracy_score, precision_score,f1_score,confusion_matrix\n",
    "new_predictions=extra.predict(normalised_test_df)\n",
    "cnf_mat1=confusion_matrix(y_true=Y_test,y_pred=new_predictions)\n",
    "cnf_mat1"
   ]
  },
  {
   "cell_type": "code",
   "execution_count": 286,
   "id": "6cfe5046",
   "metadata": {},
   "outputs": [
    {
     "name": "stdout",
     "output_type": "stream",
     "text": [
      "Accuracy of ExtraTreeClassifier: 0.9315\n"
     ]
    }
   ],
   "source": [
    "accuracy_1=accuracy_score(y_true=Y_test,y_pred=new_predictions)\n",
    "print('Accuracy of ExtraTreeClassifier: {}' .format(round(accuracy_1,4))) "
   ]
  },
  {
   "cell_type": "code",
   "execution_count": 289,
   "id": "b0dce927",
   "metadata": {},
   "outputs": [],
   "source": [
    "import xgboost as xg\n",
    "import lightgbm as lt"
   ]
  },
  {
   "cell_type": "code",
   "execution_count": 290,
   "id": "f0a6ab3b",
   "metadata": {},
   "outputs": [
    {
     "data": {
      "text/plain": [
       "LGBMClassifier()"
      ]
     },
     "execution_count": 290,
     "metadata": {},
     "output_type": "execute_result"
    }
   ],
   "source": [
    "#x_train,x_test,y_train,y_test=train_test_split(df_data,target,test_size=.2,random_state=1)\n",
    "model=lt.LGBMClassifier()\n",
    "model.fit(normalised_train_df,Y_train)"
   ]
  },
  {
   "cell_type": "code",
   "execution_count": 291,
   "id": "b4403886",
   "metadata": {},
   "outputs": [
    {
     "data": {
      "text/plain": [
       "array([0.92843386, 0.94466058, 0.93147894, 0.92695545, 0.94360434])"
      ]
     },
     "execution_count": 291,
     "metadata": {},
     "output_type": "execute_result"
    }
   ],
   "source": [
    "score=cross_val_score(model,normalised_train_df,Y_train,cv=5,scoring='f1_macro')\n",
    "score"
   ]
  },
  {
   "cell_type": "code",
   "execution_count": 292,
   "id": "bb9d7098",
   "metadata": {},
   "outputs": [
    {
     "data": {
      "text/plain": [
       "array([[ 641,   71],\n",
       "       [  50, 1238]], dtype=int64)"
      ]
     },
     "execution_count": 292,
     "metadata": {},
     "output_type": "execute_result"
    }
   ],
   "source": [
    "from sklearn.metrics import recall_score, accuracy_score, precision_score,f1_score,confusion_matrix\n",
    "new_predictions=model.predict(normalised_test_df)\n",
    "cnf_mat1=confusion_matrix(y_true=Y_test,y_pred=new_predictions)\n",
    "cnf_mat1"
   ]
  },
  {
   "cell_type": "code",
   "execution_count": 293,
   "id": "42a00f04",
   "metadata": {},
   "outputs": [
    {
     "name": "stdout",
     "output_type": "stream",
     "text": [
      "Accuracy of LGBM: 0.9395\n"
     ]
    }
   ],
   "source": [
    "accuracy2=accuracy_score(y_true=Y_test,y_pred=new_predictions)\n",
    "print('Accuracy of LGBM: {}' .format(round(accuracy2,4)) ) "
   ]
  },
  {
   "cell_type": "code",
   "execution_count": 294,
   "id": "ed78d131",
   "metadata": {},
   "outputs": [
    {
     "data": {
      "text/plain": [
       "XGBClassifier(base_score=None, booster=None, callbacks=None,\n",
       "              colsample_bylevel=None, colsample_bynode=None,\n",
       "              colsample_bytree=None, early_stopping_rounds=None,\n",
       "              enable_categorical=False, eval_metric=None, feature_types=None,\n",
       "              gamma=None, gpu_id=None, grow_policy=None, importance_type=None,\n",
       "              interaction_constraints=None, learning_rate=None, max_bin=None,\n",
       "              max_cat_threshold=None, max_cat_to_onehot=None,\n",
       "              max_delta_step=None, max_depth=None, max_leaves=None,\n",
       "              min_child_weight=None, missing=nan, monotone_constraints=None,\n",
       "              n_estimators=100, n_jobs=None, num_parallel_tree=None,\n",
       "              predictor=None, random_state=None, ...)"
      ]
     },
     "execution_count": 294,
     "metadata": {},
     "output_type": "execute_result"
    }
   ],
   "source": [
    "model2=xg.XGBClassifier()\n",
    "model2.fit(normalised_train_df,Y_train)"
   ]
  },
  {
   "cell_type": "code",
   "execution_count": 295,
   "id": "ed0f487d",
   "metadata": {},
   "outputs": [
    {
     "data": {
      "text/plain": [
       "array([[ 648,   64],\n",
       "       [  45, 1243]], dtype=int64)"
      ]
     },
     "execution_count": 295,
     "metadata": {},
     "output_type": "execute_result"
    }
   ],
   "source": [
    "from sklearn.metrics import recall_score, accuracy_score, precision_score,f1_score,confusion_matrix\n",
    "new_predictions=model2.predict(normalised_test_df)\n",
    "cnf_mat1=confusion_matrix(y_true=Y_test,y_pred=new_predictions)\n",
    "cnf_mat1"
   ]
  },
  {
   "cell_type": "code",
   "execution_count": 296,
   "id": "07e5fe2b",
   "metadata": {},
   "outputs": [
    {
     "name": "stdout",
     "output_type": "stream",
     "text": [
      "Accuracy: 0.9455\n"
     ]
    }
   ],
   "source": [
    "accuracy2=accuracy_score(y_true=Y_test,y_pred=new_predictions)\n",
    "print('Accuracy: {}' .format(round(accuracy2,4)) )  "
   ]
  },
  {
   "cell_type": "code",
   "execution_count": 297,
   "id": "806c5ec2",
   "metadata": {},
   "outputs": [],
   "source": [
    "n_estimators = [int(x) for x in np.linspace(start = 10, stop = 100, num = 100)]\n",
    "min_samples_split=[2,6,10] # minimum number to split node\n",
    "min_samples_leaf=[1,3,4] # minimum sample number that can be stored in a leaf node\n",
    "max_features=['auto']\n",
    "max_depth = [int(x) for x in np.linspace(10, 120, num = 12)]\n",
    "bootstrap=[True, False]"
   ]
  },
  {
   "cell_type": "code",
   "execution_count": 298,
   "id": "5840a7e5",
   "metadata": {},
   "outputs": [],
   "source": [
    "param_grid = {'n_estimators':n_estimators,'min_samples_split':min_samples_split,\n",
    "             'min_samples_leaf':min_samples_leaf,'max_features':max_features,\n",
    "             'max_depth':max_depth, 'bootstrap':bootstrap}"
   ]
  },
  {
   "cell_type": "code",
   "execution_count": 299,
   "id": "2c2dbbad",
   "metadata": {},
   "outputs": [],
   "source": [
    "from sklearn.model_selection import RandomizedSearchCV\n",
    "\n",
    "estimator=ExtraTreesClassifier()\n",
    "estim=RandomizedSearchCV(estimator,param_distributions=param_grid, n_iter = 10, \n",
    "                         verbose=1, random_state=1, n_jobs = -1,scoring='accuracy', cv=5)"
   ]
  },
  {
   "cell_type": "code",
   "execution_count": 300,
   "id": "7f3427ec",
   "metadata": {},
   "outputs": [
    {
     "name": "stdout",
     "output_type": "stream",
     "text": [
      "Fitting 5 folds for each of 10 candidates, totalling 50 fits\n"
     ]
    },
    {
     "data": {
      "text/plain": [
       "RandomizedSearchCV(cv=5, estimator=ExtraTreesClassifier(), n_jobs=-1,\n",
       "                   param_distributions={'bootstrap': [True, False],\n",
       "                                        'max_depth': [10, 20, 30, 40, 50, 60,\n",
       "                                                      70, 80, 90, 100, 110,\n",
       "                                                      120],\n",
       "                                        'max_features': ['auto'],\n",
       "                                        'min_samples_leaf': [1, 3, 4],\n",
       "                                        'min_samples_split': [2, 6, 10],\n",
       "                                        'n_estimators': [10, 10, 11, 12, 13, 14,\n",
       "                                                         15, 16, 17, 18, 19, 20,\n",
       "                                                         20, 21, 22, 23, 24, 25,\n",
       "                                                         26, 27, 28, 29, 30, 30,\n",
       "                                                         31, 32, 33, 34, 35, 36, ...]},\n",
       "                   random_state=1, scoring='accuracy', verbose=1)"
      ]
     },
     "execution_count": 300,
     "metadata": {},
     "output_type": "execute_result"
    }
   ],
   "source": [
    "estim.fit(normalised_train_df,Y_train)"
   ]
  },
  {
   "cell_type": "code",
   "execution_count": 301,
   "id": "54812ae2",
   "metadata": {},
   "outputs": [
    {
     "name": "stdout",
     "output_type": "stream",
     "text": [
      "Best Parameter: {'n_estimators': 90, 'min_samples_split': 6, 'min_samples_leaf': 1, 'max_features': 'auto', 'max_depth': 80, 'bootstrap': False} \n",
      "\n"
     ]
    }
   ],
   "source": [
    "print('Best Parameter:', estim.best_params_, '\\n')"
   ]
  },
  {
   "cell_type": "code",
   "execution_count": 302,
   "id": "c44df77d",
   "metadata": {},
   "outputs": [],
   "source": [
    "final_m=estim.best_estimator_"
   ]
  },
  {
   "cell_type": "code",
   "execution_count": 303,
   "id": "b94cd636",
   "metadata": {},
   "outputs": [
    {
     "data": {
      "text/plain": [
       "array([0.9   , 0.8825, 0.88  , 0.8575, 0.87  ])"
      ]
     },
     "execution_count": 303,
     "metadata": {},
     "output_type": "execute_result"
    }
   ],
   "source": [
    "cross_val_score(final_m, normalised_test_df,Y_test,scoring='accuracy')"
   ]
  },
  {
   "cell_type": "code",
   "execution_count": 305,
   "id": "364d0504",
   "metadata": {},
   "outputs": [
    {
     "name": "stdout",
     "output_type": "stream",
     "text": [
      "Accuracy of ExtraTreeClassifier after tunning: 0.923\n"
     ]
    }
   ],
   "source": [
    "new_predictions=final_m.predict(normalised_test_df)\n",
    "accuracy_1=accuracy_score(y_true=Y_test,y_pred=new_predictions)\n",
    "print('Accuracy of ExtraTreeClassifier after tunning: {}' .format(round(accuracy_1,4))) "
   ]
  },
  {
   "cell_type": "markdown",
   "id": "68307e5e",
   "metadata": {},
   "source": [
    "The accuracy score reduces after tunning"
   ]
  },
  {
   "cell_type": "code",
   "execution_count": null,
   "id": "87634816",
   "metadata": {},
   "outputs": [],
   "source": []
  }
 ],
 "metadata": {
  "kernelspec": {
   "display_name": "Python 3 (ipykernel)",
   "language": "python",
   "name": "python3"
  },
  "language_info": {
   "codemirror_mode": {
    "name": "ipython",
    "version": 3
   },
   "file_extension": ".py",
   "mimetype": "text/x-python",
   "name": "python",
   "nbconvert_exporter": "python",
   "pygments_lexer": "ipython3",
   "version": "3.9.12"
  }
 },
 "nbformat": 4,
 "nbformat_minor": 5
}
